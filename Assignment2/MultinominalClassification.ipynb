{
  "nbformat": 4,
  "nbformat_minor": 0,
  "metadata": {
    "colab": {
      "name": "MultinominalClassification.ipynb",
      "version": "0.3.2",
      "provenance": [],
      "collapsed_sections": []
    },
    "kernelspec": {
      "name": "python3",
      "display_name": "Python 3"
    }
  },
  "cells": [
    {
      "metadata": {
        "id": "0gN_wrEr-S8P",
        "colab_type": "code",
        "colab": {}
      },
      "cell_type": "code",
      "source": [
        "import tensorflow as tf\n",
        "tf.enable_eager_execution()\n",
        "import matplotlib.pyplot as plt\n",
        "import numpy as np\n",
        "import random\n",
        "from progressbar import progressbar\n",
        "from keras.utils import to_categorical\n",
        "import time"
      ],
      "execution_count": 0,
      "outputs": []
    },
    {
      "metadata": {
        "id": "zzp_GF4Z_VKx",
        "colab_type": "code",
        "colab": {}
      },
      "cell_type": "code",
      "source": [
        "def build_fc_model():\n",
        "  fc_model = tf.keras.Sequential([\n",
        "      tf.keras.layers.Flatten(),\n",
        "      tf.keras.layers.Dense(128, input_shape=(784,),activation=tf.nn.relu),\n",
        "      tf.keras.layers.Dense(10, input_shape=(128,),activation=tf.nn.softmax)\n",
        "  ])\n",
        "  return fc_model"
      ],
      "execution_count": 0,
      "outputs": []
    },
    {
      "metadata": {
        "id": "l4ngaPPvTUfz",
        "colab_type": "code",
        "colab": {}
      },
      "cell_type": "code",
      "source": [
        "def build_fc_tanh_model():\n",
        "  fc_model = tf.keras.Sequential([\n",
        "      tf.keras.layers.Flatten(),\n",
        "      tf.keras.layers.Dense(128, input_shape=(784,),activation=tf.nn.tanh),\n",
        "      tf.keras.layers.Dense(10, input_shape=(128,),activation=tf.nn.softmax)\n",
        "  ])\n",
        "  return fc_model"
      ],
      "execution_count": 0,
      "outputs": []
    },
    {
      "metadata": {
        "id": "xdKTggEw_X-V",
        "colab_type": "code",
        "colab": {}
      },
      "cell_type": "code",
      "source": [
        "def build_cnn_model():\n",
        "    cnn_model = tf.keras.Sequential([\n",
        "        tf.keras.layers.Conv2D(24, kernel_size=(3, 3) , activation=tf.nn.relu, input_shape=(28, 28, 1) ),\n",
        "        tf.keras.layers.MaxPooling2D(pool_size=(2, 2), strides=2),\n",
        "        tf.keras.layers.Conv2D(36, kernel_size=(3, 3) , activation=tf.nn.relu, input_shape=(13, 13, 24) ),\n",
        "        tf.keras.layers.MaxPooling2D(pool_size=(2, 2), strides=2),\n",
        "        tf.keras.layers.Flatten(),\n",
        "        tf.keras.layers.Dense(748, input_shape=(900,),activation=tf.nn.relu),\n",
        "        tf.keras.layers.Dense(128, input_shape=(784,),activation=tf.nn.relu),\n",
        "        tf.keras.layers.Dense(10, input_shape=(128,),activation=tf.nn.softmax)\n",
        "        \n",
        "    ])\n",
        "    return cnn_model"
      ],
      "execution_count": 0,
      "outputs": []
    },
    {
      "metadata": {
        "id": "G8xmGX5ATboE",
        "colab_type": "code",
        "colab": {}
      },
      "cell_type": "code",
      "source": [
        "def build_cnn_tanh_model():\n",
        "    cnn_model = tf.keras.Sequential([\n",
        "        tf.keras.layers.Conv2D(24, kernel_size=(3, 3) , activation=tf.nn.tanh, input_shape=(28, 28, 1) ),\n",
        "        tf.keras.layers.MaxPooling2D(pool_size=(2, 2), strides=2),\n",
        "        tf.keras.layers.Conv2D(36, kernel_size=(3, 3) , activation=tf.nn.tanh, input_shape=(13, 13, 24) ),\n",
        "        tf.keras.layers.MaxPooling2D(pool_size=(2, 2), strides=2),\n",
        "        tf.keras.layers.Flatten(),\n",
        "        tf.keras.layers.Dense(748, input_shape=(900,), activation=tf.nn.tanh),\n",
        "        tf.keras.layers.Dense(128, input_shape=(784,), activation=tf.nn.tanh),\n",
        "        tf.keras.layers.Dense(10, input_shape=(128,), activation=tf.nn.softmax)\n",
        "        \n",
        "    ])\n",
        "    return cnn_model"
      ],
      "execution_count": 0,
      "outputs": []
    },
    {
      "metadata": {
        "id": "E3HVIrXC_buy",
        "colab_type": "code",
        "colab": {
          "base_uri": "https://localhost:8080/",
          "height": 677
        },
        "outputId": "547c4532-a279-425b-9a6c-47c1e8d24457"
      },
      "cell_type": "code",
      "source": [
        "mnist = tf.keras.datasets.mnist\n",
        "(train_images, train_labels), (test_images, test_labels) = mnist.load_data()\n",
        "train_images = np.expand_dims(train_images, axis=-1)/255.\n",
        "train_labels = np.int64(train_labels)\n",
        "test_images = np.expand_dims(test_images, axis=-1)/255.\n",
        "test_labels = np.int64(test_labels)\n",
        "train_labels = to_categorical(train_labels)\n",
        "test_labels = to_categorical(test_labels)\n",
        "\n",
        "\n",
        "plt.figure(figsize=(10,10))\n",
        "random_inds = np.random.choice(60000,36)\n",
        "for i in range(36):\n",
        "    plt.subplot(6,6,i+1)\n",
        "    plt.xticks([])\n",
        "    plt.yticks([])\n",
        "    plt.grid(False)\n",
        "    image_ind = random_inds[i]\n",
        "    plt.imshow(np.squeeze(train_images[image_ind]), cmap=plt.cm.binary)\n",
        "    plt.xlabel(train_labels[image_ind])"
      ],
      "execution_count": 5,
      "outputs": [
        {
          "output_type": "stream",
          "text": [
            "Downloading data from https://storage.googleapis.com/tensorflow/tf-keras-datasets/mnist.npz\n",
            "11493376/11490434 [==============================] - 0s 0us/step\n"
          ],
          "name": "stdout"
        },
        {
          "output_type": "stream",
          "text": [
            "/usr/local/lib/python3.6/dist-packages/matplotlib/text.py:1191: FutureWarning: elementwise comparison failed; returning scalar instead, but in the future will perform elementwise comparison\n",
            "  if s != self._text:\n"
          ],
          "name": "stderr"
        },
        {
          "output_type": "display_data",
          "data": {
            "image/png": "[encoded data removed]",
            "text/plain": [
              "<Figure size 720x720 with 36 Axes>"
            ]
          },
          "metadata": {
            "tags": []
          }
        }
      ]
    },
    {
      "metadata": {
        "id": "Jeil6_0kqi5H",
        "colab_type": "text"
      },
      "cell_type": "markdown",
      "source": [
        "Relu for FC Model\n",
        "-----------------------\n",
        "\n",
        "Applying Relu activation functions on FC model\n",
        "\n",
        "optimizer is Adam with learning rate = 0.0009"
      ]
    },
    {
      "metadata": {
        "id": "Zl9ko4NB_j9R",
        "colab_type": "code",
        "colab": {
          "base_uri": "https://localhost:8080/",
          "height": 255
        },
        "outputId": "59dedd8f-2cdd-4e15-a530-7de670f6a42e"
      },
      "cell_type": "code",
      "source": [
        "model = build_fc_model()\n",
        "BATCH_SIZE = 64\n",
        "EPOCHS = 5\n",
        "# TODO compile and fit the model with the appropriate parameters.\n",
        "model.compile(optimizer= tf.keras.optimizers.Adam(lr=0.0009) , \n",
        "              loss='categorical_crossentropy', \n",
        "              metrics=['accuracy'])\n",
        "time1 = time.time()\n",
        "model.fit(x=train_images,y=train_labels, validation_split= 0.2, epochs=EPOCHS)\n",
        "time2 = time.time()\n",
        "print(\"Running Time: \" + str((time2-time1)*1000.0) + \" ms\")\n",
        "test_acc = model.evaluate(test_images, test_labels, batch_size=BATCH_SIZE)\n",
        "#TODO: Use the evaluate method to test the model.\n",
        "\n",
        "\n",
        "print('Test accuracy:', test_acc)\n"
      ],
      "execution_count": 34,
      "outputs": [
        {
          "output_type": "stream",
          "text": [
            "Train on 48000 samples, validate on 12000 samples\n",
            "Epoch 1/5\n",
            "48000/48000 [==============================] - 8s 170us/sample - loss: 0.2917 - acc: 0.9170 - val_loss: 0.1533 - val_acc: 0.9584\n",
            "Epoch 2/5\n",
            "48000/48000 [==============================] - 7s 145us/sample - loss: 0.1277 - acc: 0.9622 - val_loss: 0.1162 - val_acc: 0.9657\n",
            "Epoch 3/5\n",
            "48000/48000 [==============================] - 7s 148us/sample - loss: 0.0884 - acc: 0.9737 - val_loss: 0.1024 - val_acc: 0.9702\n",
            "Epoch 4/5\n",
            "48000/48000 [==============================] - 7s 142us/sample - loss: 0.0642 - acc: 0.9812 - val_loss: 0.0924 - val_acc: 0.9722\n",
            "Epoch 5/5\n",
            "48000/48000 [==============================] - 7s 148us/sample - loss: 0.0509 - acc: 0.9849 - val_loss: 0.0853 - val_acc: 0.9747\n",
            "Running Time: 37400.82764625549 ms\n",
            "10000/10000 [==============================] - 0s 26us/sample - loss: 0.0764 - acc: 0.9771\n",
            "Test accuracy: [0.07638369548758492, 0.9771]\n"
          ],
          "name": "stdout"
        }
      ]
    },
    {
      "metadata": {
        "id": "y9cCvyac5vZs",
        "colab_type": "text"
      },
      "cell_type": "markdown",
      "source": [
        "Using SGD with learning rate =0.05 accuracy is 96.51%\n",
        "so Adam is better."
      ]
    },
    {
      "metadata": {
        "id": "NznJQMCOxxLi",
        "colab_type": "code",
        "colab": {
          "base_uri": "https://localhost:8080/",
          "height": 238
        },
        "outputId": "d126557f-a4fc-4cf6-fbe9-211137d55f53"
      },
      "cell_type": "code",
      "source": [
        "model = build_fc_model()\n",
        "BATCH_SIZE = 64\n",
        "EPOCHS = 5\n",
        "# TODO compile and fit the model with the appropriate parameters.\n",
        "model.compile(optimizer= tf.keras.optimizers.SGD(lr=0.05) , \n",
        "              loss='categorical_crossentropy', \n",
        "              metrics=['accuracy'])\n",
        "model.fit(x=train_images,y=train_labels, validation_split= 0.2, epochs=EPOCHS)\n",
        "\n",
        "test_acc = model.evaluate(test_images, test_labels, batch_size=BATCH_SIZE)\n",
        "#TODO: Use the evaluate method to test the model.\n",
        "\n",
        "\n",
        "print('Test accuracy:', test_acc)\n"
      ],
      "execution_count": 31,
      "outputs": [
        {
          "output_type": "stream",
          "text": [
            "Train on 48000 samples, validate on 12000 samples\n",
            "Epoch 1/5\n",
            "48000/48000 [==============================] - 6s 126us/sample - loss: 0.3960 - acc: 0.8919 - val_loss: 0.2367 - val_acc: 0.9345\n",
            "Epoch 2/5\n",
            "48000/48000 [==============================] - 5s 106us/sample - loss: 0.2178 - acc: 0.9379 - val_loss: 0.1861 - val_acc: 0.9499\n",
            "Epoch 3/5\n",
            "48000/48000 [==============================] - 5s 109us/sample - loss: 0.1668 - acc: 0.9524 - val_loss: 0.1499 - val_acc: 0.9602\n",
            "Epoch 4/5\n",
            "48000/48000 [==============================] - 5s 108us/sample - loss: 0.1360 - acc: 0.9612 - val_loss: 0.1340 - val_acc: 0.9628\n",
            "Epoch 5/5\n",
            "48000/48000 [==============================] - 5s 109us/sample - loss: 0.1140 - acc: 0.9678 - val_loss: 0.1234 - val_acc: 0.9647\n",
            "10000/10000 [==============================] - 0s 25us/sample - loss: 0.1160 - acc: 0.9651\n",
            "Test accuracy: [0.11601644149646163, 0.9651]\n"
          ],
          "name": "stdout"
        }
      ]
    },
    {
      "metadata": {
        "id": "xSSFAAMnpmfr",
        "colab_type": "text"
      },
      "cell_type": "markdown",
      "source": [
        "Tanh for FC Model\n",
        "------------------------\n",
        "Applying Tanh optimizer on FC model, we observe that Relu is better than Tanh in Accuracy"
      ]
    },
    {
      "metadata": {
        "id": "nDC13RGAfzBE",
        "colab_type": "code",
        "colab": {
          "base_uri": "https://localhost:8080/",
          "height": 238
        },
        "outputId": "39c4f96a-168f-4be7-b005-ccebc38bc7bc"
      },
      "cell_type": "code",
      "source": [
        "model_tanh = build_fc_tanh_model()\n",
        "BATCH_SIZE = 64\n",
        "EPOCHS = 5\n",
        "# TODO compile and fit the model with the appropriate parameters.\n",
        "model_tanh.compile(optimizer= tf.keras.optimizers.Adam(lr=0.0009) , \n",
        "              loss='categorical_crossentropy', \n",
        "              metrics=['accuracy'])\n",
        "model_tanh.fit(x=train_images,y=train_labels, validation_split= 0.2, epochs=EPOCHS)\n",
        "\n",
        "test_acc = model_tanh.evaluate(test_images, test_labels, batch_size=BATCH_SIZE)\n",
        "#TODO: Use the evaluate method to test the model.\n",
        "\n",
        "\n",
        "print('Test accuracy:', test_acc)"
      ],
      "execution_count": 23,
      "outputs": [
        {
          "output_type": "stream",
          "text": [
            "Train on 48000 samples, validate on 12000 samples\n",
            "Epoch 1/5\n",
            "48000/48000 [==============================] - 7s 141us/sample - loss: 0.3175 - acc: 0.9094 - val_loss: 0.1953 - val_acc: 0.9464\n",
            "Epoch 2/5\n",
            "48000/48000 [==============================] - 6s 128us/sample - loss: 0.1619 - acc: 0.9529 - val_loss: 0.1403 - val_acc: 0.9591\n",
            "Epoch 3/5\n",
            "48000/48000 [==============================] - 6s 128us/sample - loss: 0.1119 - acc: 0.9679 - val_loss: 0.1218 - val_acc: 0.9654\n",
            "Epoch 4/5\n",
            "48000/48000 [==============================] - 6s 129us/sample - loss: 0.0839 - acc: 0.9761 - val_loss: 0.1023 - val_acc: 0.9693\n",
            "Epoch 5/5\n",
            "48000/48000 [==============================] - 6s 133us/sample - loss: 0.0637 - acc: 0.9820 - val_loss: 0.1005 - val_acc: 0.9708\n",
            "10000/10000 [==============================] - 0s 25us/sample - loss: 0.0954 - acc: 0.9701\n",
            "Test accuracy: [0.09544817203953862, 0.9701]\n"
          ],
          "name": "stdout"
        }
      ]
    },
    {
      "metadata": {
        "id": "Xw1yhF6ap8DP",
        "colab_type": "text"
      },
      "cell_type": "markdown",
      "source": [
        "Relu for CNN Model\n",
        "-----------------------\n",
        "\n",
        "Applying Relu activation functions on CNN model\n",
        "\n",
        "optimizer is Adam with learning rate = 0.0009\n"
      ]
    },
    {
      "metadata": {
        "id": "9OIqSZHs_zaf",
        "colab_type": "code",
        "colab": {
          "base_uri": "https://localhost:8080/",
          "height": 663
        },
        "outputId": "7d301b71-3706-4439-e8ee-6b3728a50cb1"
      },
      "cell_type": "code",
      "source": [
        "cnn_model = build_cnn_model()\n",
        "print(cnn_model.summary())\n",
        "\n",
        "#TODO: Compile and fit the CNN model.\n",
        "cnn_model.compile(optimizer= tf.keras.optimizers.Adam(lr=0.0009) , \n",
        "              loss='categorical_crossentropy', \n",
        "              metrics=['accuracy'])\n",
        "time1 = time.time()\n",
        "cnn_model.fit(x=train_images,y=train_labels, validation_split= 0.2, epochs=EPOCHS)\n",
        "time2 = time.time()\n",
        "print(\"Running Time: \" + str((time2-time1)*1000.0) + \" ms\")\n",
        "test_acc = cnn_model.evaluate(test_images, test_labels, batch_size=BATCH_SIZE)\n",
        "#TODO: Use the evaluate method to test the model.\n",
        "\n",
        "print('Test accuracy:', test_acc)"
      ],
      "execution_count": 35,
      "outputs": [
        {
          "output_type": "stream",
          "text": [
            "_________________________________________________________________\n",
            "Layer (type)                 Output Shape              Param #   \n",
            "=================================================================\n",
            "conv2d_16 (Conv2D)           (None, 26, 26, 24)        240       \n",
            "_________________________________________________________________\n",
            "max_pooling2d_16 (MaxPooling (None, 13, 13, 24)        0         \n",
            "_________________________________________________________________\n",
            "conv2d_17 (Conv2D)           (None, 11, 11, 36)        7812      \n",
            "_________________________________________________________________\n",
            "max_pooling2d_17 (MaxPooling (None, 5, 5, 36)          0         \n",
            "_________________________________________________________________\n",
            "flatten_24 (Flatten)         (None, 900)               0         \n",
            "_________________________________________________________________\n",
            "dense_56 (Dense)             (None, 748)               673948    \n",
            "_________________________________________________________________\n",
            "dense_57 (Dense)             (None, 128)               95872     \n",
            "_________________________________________________________________\n",
            "dense_58 (Dense)             (None, 10)                1290      \n",
            "=================================================================\n",
            "Total params: 779,162\n",
            "Trainable params: 779,162\n",
            "Non-trainable params: 0\n",
            "_________________________________________________________________\n",
            "None\n",
            "Train on 48000 samples, validate on 12000 samples\n",
            "Epoch 1/5\n",
            "48000/48000 [==============================] - 65s 1ms/sample - loss: 0.1495 - acc: 0.9540 - val_loss: 0.0493 - val_acc: 0.9855\n",
            "Epoch 2/5\n",
            "48000/48000 [==============================] - 64s 1ms/sample - loss: 0.0461 - acc: 0.9859 - val_loss: 0.0437 - val_acc: 0.9877\n",
            "Epoch 3/5\n",
            "48000/48000 [==============================] - 64s 1ms/sample - loss: 0.0311 - acc: 0.9904 - val_loss: 0.0387 - val_acc: 0.9895\n",
            "Epoch 4/5\n",
            "48000/48000 [==============================] - 64s 1ms/sample - loss: 0.0225 - acc: 0.9928 - val_loss: 0.0366 - val_acc: 0.9897\n",
            "Epoch 5/5\n",
            "48000/48000 [==============================] - 64s 1ms/sample - loss: 0.0172 - acc: 0.9944 - val_loss: 0.0366 - val_acc: 0.9906\n",
            "Running Time: 322982.32984542847 ms\n",
            "10000/10000 [==============================] - 3s 312us/sample - loss: 0.0346 - acc: 0.9898\n",
            "Test accuracy: [0.03464004217517941, 0.9898]\n"
          ],
          "name": "stdout"
        }
      ]
    },
    {
      "metadata": {
        "id": "BpdtYzux09Dx",
        "colab_type": "text"
      },
      "cell_type": "markdown",
      "source": [
        "Using SGD with learning rate =0.01 accuracy is 98.11%\n",
        "so Adam is better."
      ]
    },
    {
      "metadata": {
        "id": "o21VLRhRx7eG",
        "colab_type": "code",
        "colab": {
          "base_uri": "https://localhost:8080/",
          "height": 646
        },
        "outputId": "aa3ee6cd-7801-46c0-cdc6-0cea5ac0fc1b"
      },
      "cell_type": "code",
      "source": [
        "cnn_model = build_cnn_model()\n",
        "print(cnn_model.summary())\n",
        "\n",
        "#TODO: Compile and fit the CNN model.\n",
        "cnn_model.compile(optimizer= tf.keras.optimizers.SGD(lr=0.01) , \n",
        "              loss='categorical_crossentropy', \n",
        "              metrics=['accuracy'])\n",
        "cnn_model.fit(x=train_images,y=train_labels, validation_split= 0.2, epochs=EPOCHS)\n",
        "\n",
        "test_acc = cnn_model.evaluate(test_images, test_labels, batch_size=BATCH_SIZE)\n",
        "#TODO: Use the evaluate method to test the model.\n",
        "\n",
        "print('Test accuracy:', test_acc)"
      ],
      "execution_count": 29,
      "outputs": [
        {
          "output_type": "stream",
          "text": [
            "_________________________________________________________________\n",
            "Layer (type)                 Output Shape              Param #   \n",
            "=================================================================\n",
            "conv2d_14 (Conv2D)           (None, 26, 26, 24)        240       \n",
            "_________________________________________________________________\n",
            "max_pooling2d_14 (MaxPooling (None, 13, 13, 24)        0         \n",
            "_________________________________________________________________\n",
            "conv2d_15 (Conv2D)           (None, 11, 11, 36)        7812      \n",
            "_________________________________________________________________\n",
            "max_pooling2d_15 (MaxPooling (None, 5, 5, 36)          0         \n",
            "_________________________________________________________________\n",
            "flatten_19 (Flatten)         (None, 900)               0         \n",
            "_________________________________________________________________\n",
            "dense_45 (Dense)             (None, 748)               673948    \n",
            "_________________________________________________________________\n",
            "dense_46 (Dense)             (None, 128)               95872     \n",
            "_________________________________________________________________\n",
            "dense_47 (Dense)             (None, 10)                1290      \n",
            "=================================================================\n",
            "Total params: 779,162\n",
            "Trainable params: 779,162\n",
            "Non-trainable params: 0\n",
            "_________________________________________________________________\n",
            "None\n",
            "Train on 48000 samples, validate on 12000 samples\n",
            "Epoch 1/5\n",
            "48000/48000 [==============================] - 58s 1ms/sample - loss: 0.5821 - acc: 0.8334 - val_loss: 0.1563 - val_acc: 0.9548\n",
            "Epoch 2/5\n",
            "48000/48000 [==============================] - 57s 1ms/sample - loss: 0.1419 - acc: 0.9560 - val_loss: 0.1363 - val_acc: 0.9575\n",
            "Epoch 3/5\n",
            "48000/48000 [==============================] - 56s 1ms/sample - loss: 0.0976 - acc: 0.9699 - val_loss: 0.0864 - val_acc: 0.9747\n",
            "Epoch 4/5\n",
            "48000/48000 [==============================] - 56s 1ms/sample - loss: 0.0771 - acc: 0.9762 - val_loss: 0.0746 - val_acc: 0.9773\n",
            "Epoch 5/5\n",
            "48000/48000 [==============================] - 55s 1ms/sample - loss: 0.0641 - acc: 0.9803 - val_loss: 0.0687 - val_acc: 0.9797\n",
            "10000/10000 [==============================] - 3s 312us/sample - loss: 0.0574 - acc: 0.9811\n",
            "Test accuracy: [0.057401766075752675, 0.9811]\n"
          ],
          "name": "stdout"
        }
      ]
    },
    {
      "metadata": {
        "id": "VQL_v7y3o9A4",
        "colab_type": "text"
      },
      "cell_type": "markdown",
      "source": [
        "Prediction\n",
        "----------------\n",
        "Prediction of the first image of the test set is Correct applying CNN Model."
      ]
    },
    {
      "metadata": {
        "id": "vrW7Fbu3_3Mc",
        "colab_type": "code",
        "colab": {
          "base_uri": "https://localhost:8080/",
          "height": 68
        },
        "outputId": "886b302d-5aa1-4691-fc4a-6b738a06f8ca"
      },
      "cell_type": "code",
      "source": [
        "predictions = cnn_model.predict(test_images)\n",
        "\n",
        "predictions[0]\n",
        "\n",
        "#TODO: identify the digit with the highest confidence prediction for the first image in the test dataset\n",
        "print(np.argmax(predictions[0])) \n",
        "print(np.argmax(test_labels[0]))\n",
        "  \n",
        "\n",
        "test_labels[0]"
      ],
      "execution_count": 8,
      "outputs": [
        {
          "output_type": "stream",
          "text": [
            "7\n",
            "7\n"
          ],
          "name": "stdout"
        },
        {
          "output_type": "execute_result",
          "data": {
            "text/plain": [
              "array([0., 0., 0., 0., 0., 0., 0., 1., 0., 0.], dtype=float32)"
            ]
          },
          "metadata": {
            "tags": []
          },
          "execution_count": 8
        }
      ]
    },
    {
      "metadata": {
        "id": "S4P1zYZOpUzX",
        "colab_type": "text"
      },
      "cell_type": "markdown",
      "source": [
        "Tanh for CNN Model\n",
        "------------------------\n",
        "Applying Tanh optimizer on CNN model, as we see Relu is better than tanh in accuracy on Test set"
      ]
    },
    {
      "metadata": {
        "id": "Kg3408ftgEjb",
        "colab_type": "code",
        "colab": {
          "base_uri": "https://localhost:8080/",
          "height": 646
        },
        "outputId": "33e8e278-14a8-4bfb-8991-bd99aa1591cf"
      },
      "cell_type": "code",
      "source": [
        "cnn_tanh_model = build_cnn_tanh_model()\n",
        "print(cnn_tanh_model.summary())\n",
        "\n",
        "#TODO: Compile and fit the CNN model.\n",
        "cnn_tanh_model.compile(optimizer= tf.keras.optimizers.Adam(lr=0.0009) , \n",
        "              loss='categorical_crossentropy', \n",
        "              metrics=['accuracy'])\n",
        "cnn_tanh_model.fit(x=train_images,y=train_labels, validation_split= 0.2, epochs=EPOCHS)\n",
        "\n",
        "test_acc = cnn_tanh_model.evaluate(test_images, test_labels, batch_size=BATCH_SIZE)\n",
        "#TODO: Use the evaluate method to test the model.\n",
        "\n",
        "print('Test accuracy:', test_acc)"
      ],
      "execution_count": 26,
      "outputs": [
        {
          "output_type": "stream",
          "text": [
            "_________________________________________________________________\n",
            "Layer (type)                 Output Shape              Param #   \n",
            "=================================================================\n",
            "conv2d_10 (Conv2D)           (None, 26, 26, 24)        240       \n",
            "_________________________________________________________________\n",
            "max_pooling2d_10 (MaxPooling (None, 13, 13, 24)        0         \n",
            "_________________________________________________________________\n",
            "conv2d_11 (Conv2D)           (None, 11, 11, 36)        7812      \n",
            "_________________________________________________________________\n",
            "max_pooling2d_11 (MaxPooling (None, 5, 5, 36)          0         \n",
            "_________________________________________________________________\n",
            "flatten_16 (Flatten)         (None, 900)               0         \n",
            "_________________________________________________________________\n",
            "dense_37 (Dense)             (None, 748)               673948    \n",
            "_________________________________________________________________\n",
            "dense_38 (Dense)             (None, 128)               95872     \n",
            "_________________________________________________________________\n",
            "dense_39 (Dense)             (None, 10)                1290      \n",
            "=================================================================\n",
            "Total params: 779,162\n",
            "Trainable params: 779,162\n",
            "Non-trainable params: 0\n",
            "_________________________________________________________________\n",
            "None\n",
            "Train on 48000 samples, validate on 12000 samples\n",
            "Epoch 1/5\n",
            "48000/48000 [==============================] - 61s 1ms/sample - loss: 0.1403 - acc: 0.9565 - val_loss: 0.0717 - val_acc: 0.9783\n",
            "Epoch 2/5\n",
            "48000/48000 [==============================] - 59s 1ms/sample - loss: 0.0599 - acc: 0.9821 - val_loss: 0.0596 - val_acc: 0.9832\n",
            "Epoch 3/5\n",
            "48000/48000 [==============================] - 60s 1ms/sample - loss: 0.0439 - acc: 0.9856 - val_loss: 0.0548 - val_acc: 0.9835\n",
            "Epoch 4/5\n",
            "48000/48000 [==============================] - 60s 1ms/sample - loss: 0.0345 - acc: 0.9892 - val_loss: 0.0578 - val_acc: 0.9837\n",
            "Epoch 5/5\n",
            "48000/48000 [==============================] - 60s 1ms/sample - loss: 0.0277 - acc: 0.9911 - val_loss: 0.0507 - val_acc: 0.9852\n",
            "10000/10000 [==============================] - 3s 311us/sample - loss: 0.0448 - acc: 0.9863\n",
            "Test accuracy: [0.04477559388568625, 0.9863]\n"
          ],
          "name": "stdout"
        }
      ]
    },
    {
      "metadata": {
        "id": "Wh8MO86avfAx",
        "colab_type": "text"
      },
      "cell_type": "markdown",
      "source": [
        "Comparison between FC vs. CNN :\n",
        "---------------------------------------\n",
        "- Accuracy of Test set using Relu (accuracy of CNN is better.) : \n",
        "  - FC : 97.71%\n",
        "  - CNN: 99.13% \n",
        " \n",
        "- Time: CNN takes more time than FC.\n",
        "- Accuracy of training set : \n",
        "  - FC: loss: 0.0517 - acc: 0.9848 - val_loss: 0.0890 - val_acc: 0.9732\n",
        "  - CNN: loss: 0.0172 - acc: 0.9944 - val_loss: 0.0350 - val_acc: 0.9911"
      ]
    }
  ]
}