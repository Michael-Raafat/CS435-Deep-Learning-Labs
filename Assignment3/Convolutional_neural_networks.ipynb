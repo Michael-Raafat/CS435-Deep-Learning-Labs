{
  "nbformat": 4,
  "nbformat_minor": 0,
  "metadata": {
    "colab": {
      "name": "Convolutional neural networks.ipynb",
      "version": "0.3.2",
      "provenance": [],
      "collapsed_sections": [],
      "toc_visible": true
    },
    "kernelspec": {
      "name": "python3",
      "display_name": "Python 3"
    }
  },
  "cells": [
    {
      "metadata": {
        "id": "So0p_9UMWFDY",
        "colab_type": "code",
        "outputId": "12e03738-7785-46cd-b884-0b707cfc0648",
        "colab": {
          "base_uri": "https://localhost:8080/",
          "height": 34
        }
      },
      "cell_type": "code",
      "source": [
        "import numpy as np\n",
        "from keras import layers\n",
        "from keras.layers import Input, Dense, Activation, ZeroPadding2D, BatchNormalization, Flatten, Conv2D\n",
        "from keras.layers import AveragePooling2D, MaxPooling2D, Dropout, GlobalMaxPooling2D, GlobalAveragePooling2D\n",
        "from keras.models import Model\n",
        "from keras.preprocessing import image\n",
        "from keras.utils import layer_utils\n",
        "from keras.utils.data_utils import get_file\n",
        "from keras.applications.imagenet_utils import preprocess_input\n",
        "import pydot\n",
        "from IPython.display import SVG\n",
        "from keras.utils.vis_utils import model_to_dot\n",
        "from keras.utils import plot_model\n",
        "import h5py\n",
        "import tensorflow as tf\n",
        "from keras.optimizers import Adam\n",
        "from keras.optimizers import SGD\n",
        "from keras.applications.vgg16 import VGG16\n",
        "from keras.applications.resnet50 import ResNet50\n",
        "from keras.layers.normalization import BatchNormalization\n",
        "\n",
        "import keras.backend as K\n",
        "K.set_image_data_format('channels_last')\n",
        "import matplotlib.pyplot as plt\n",
        "from matplotlib.pyplot import imshow"
      ],
      "execution_count": 0,
      "outputs": [
        {
          "output_type": "stream",
          "text": [
            "Using TensorFlow backend.\n"
          ],
          "name": "stderr"
        }
      ]
    },
    {
      "metadata": {
        "id": "Eme8lsv2WPsb",
        "colab_type": "code",
        "colab": {}
      },
      "cell_type": "code",
      "source": [
        "def HappyModel(input_shape):\n",
        "    \"\"\"\n",
        "    Implementation of the HappyModel.\n",
        "    \n",
        "    Arguments:\n",
        "    input_shape -- shape of the images of the dataset\n",
        "\n",
        "    Returns:\n",
        "    model -- a Model() instance in Keras\n",
        "    \"\"\"\n",
        "    inputs = Input(input_shape)\n",
        "    x = Conv2D(32, kernel_size=(3, 3) , activation='relu', input_shape=input_shape)(inputs)\n",
        "    x = MaxPooling2D(pool_size=(2, 2), strides=2)(x)\n",
        "    x = BatchNormalization()(x)\n",
        "    x = Conv2D(64, kernel_size=(3, 3) , activation='relu', input_shape=(31, 31, 32))(x)\n",
        "    x = MaxPooling2D(pool_size=(2, 2), strides=2)(x)\n",
        "    x = BatchNormalization()(x)\n",
        "    x = Conv2D(128, kernel_size=(3, 3) , activation='relu', input_shape=(14, 14, 64))(x)\n",
        "    x = MaxPooling2D(pool_size=(2, 2), strides=2)(x)\n",
        "    x = BatchNormalization()(x)\n",
        "    x = Flatten()(x)\n",
        "    x = Dense(784, input_shape=(4608,),activation='relu')(x)\n",
        "    x = BatchNormalization()(x)\n",
        "    x = Dense(400, input_shape=(784,),activation='relu')(x)\n",
        "    x = BatchNormalization()(x)\n",
        "    x = Dense(128, input_shape=(400,),activation='relu')(x)\n",
        "    x = BatchNormalization()(x)\n",
        "    prediction = Dense(1, activation='sigmoid')(x)\n",
        "    \n",
        "    model = Model(inputs, outputs=prediction)\n",
        "    \n",
        "    return model\n"
      ],
      "execution_count": 0,
      "outputs": []
    },
    {
      "metadata": {
        "id": "l7QWapjfWT0b",
        "colab_type": "code",
        "colab": {}
      },
      "cell_type": "code",
      "source": [
        "def load_dataset():\n",
        "    path_to_train = \"train_happy.h5\"\n",
        "    path_to_test = \"test_happy.h5\"\n",
        "    train_dataset = h5py.File(path_to_train)\n",
        "    train_x = np.array(train_dataset['train_set_x'][:])\n",
        "    train_y = np.array(train_dataset['train_set_y'][:])\n",
        "\n",
        "    test_dataset = h5py.File(path_to_test)\n",
        "    test_x = np.array(test_dataset['test_set_x'][:])\n",
        "    test_y = np.array(test_dataset['test_set_y'][:])\n",
        "\n",
        "    # y reshaped\n",
        "    train_y = train_y.reshape((1, train_x.shape[0]))\n",
        "    test_y = test_y.reshape((1, test_y.shape[0]))\n",
        "\n",
        "    return train_x, train_y, test_x, test_y "
      ],
      "execution_count": 0,
      "outputs": []
    },
    {
      "metadata": {
        "id": "3_nnSCwQWU_k",
        "colab_type": "code",
        "outputId": "bf1d2c24-4fb7-4ce6-ec2f-74a429ea5cf2",
        "colab": {
          "base_uri": "https://localhost:8080/",
          "height": 119
        }
      },
      "cell_type": "code",
      "source": [
        "X_train_orig, Y_train_orig, X_test_orig, Y_test_orig = load_dataset()\n",
        "\n",
        "# Normalize image vectors\n",
        "X_train = X_train_orig/255.\n",
        "X_test = X_test_orig/255.\n",
        "\n",
        "# Reshape\n",
        "Y_train = Y_train_orig.T\n",
        "Y_test = Y_test_orig.T\n",
        "\n",
        "print (\"number of training examples = \" + str(X_train.shape[0]))\n",
        "print (\"number of test examples = \" + str(X_test.shape[0]))\n",
        "print (\"X_train shape: \" + str(X_train.shape))\n",
        "print (\"Y_train shape: \" + str(Y_train.shape))\n",
        "print (\"X_test shape: \" + str(X_test.shape))\n",
        "print (\"Y_test shape: \" + str(Y_test.shape))"
      ],
      "execution_count": 0,
      "outputs": [
        {
          "output_type": "stream",
          "text": [
            "number of training examples = 600\n",
            "number of test examples = 150\n",
            "X_train shape: (600, 64, 64, 3)\n",
            "Y_train shape: (600, 1)\n",
            "X_test shape: (150, 64, 64, 3)\n",
            "Y_test shape: (150, 1)\n"
          ],
          "name": "stdout"
        }
      ]
    },
    {
      "metadata": {
        "id": "GzfWA2TGWZOR",
        "colab_type": "code",
        "outputId": "c87f2a63-ca67-480a-cb53-b21c4324f8d4",
        "colab": {
          "base_uri": "https://localhost:8080/",
          "height": 1839
        }
      },
      "cell_type": "code",
      "source": [
        "#Create, compile and fit the model\n",
        "### START CODE HERE ### \n",
        "model = HappyModel(X_train.shape[1:])\n",
        "print(model.summary())\n",
        "\n",
        "\n",
        "EPOCHS = 30\n",
        "# TODO compile and fit the model with the appropriate parameters.\n",
        "model.compile(optimizer= Adam(lr=0.0005) , \n",
        "              loss='binary_crossentropy', \n",
        "              metrics=['accuracy'])\n",
        "\n",
        "model.fit(x=X_train,y=Y_train, validation_split= 0.2, epochs=EPOCHS)\n",
        "### END CODE HERE ###"
      ],
      "execution_count": 0,
      "outputs": [
        {
          "output_type": "stream",
          "text": [
            "_________________________________________________________________\n",
            "Layer (type)                 Output Shape              Param #   \n",
            "=================================================================\n",
            "input_50 (InputLayer)        (None, 64, 64, 3)         0         \n",
            "_________________________________________________________________\n",
            "conv2d_10 (Conv2D)           (None, 62, 62, 32)        896       \n",
            "_________________________________________________________________\n",
            "max_pooling2d_20 (MaxPooling (None, 31, 31, 32)        0         \n",
            "_________________________________________________________________\n",
            "batch_normalization_6 (Batch (None, 31, 31, 32)        128       \n",
            "_________________________________________________________________\n",
            "conv2d_11 (Conv2D)           (None, 29, 29, 64)        18496     \n",
            "_________________________________________________________________\n",
            "max_pooling2d_21 (MaxPooling (None, 14, 14, 64)        0         \n",
            "_________________________________________________________________\n",
            "batch_normalization_7 (Batch (None, 14, 14, 64)        256       \n",
            "_________________________________________________________________\n",
            "conv2d_12 (Conv2D)           (None, 12, 12, 128)       73856     \n",
            "_________________________________________________________________\n",
            "max_pooling2d_22 (MaxPooling (None, 6, 6, 128)         0         \n",
            "_________________________________________________________________\n",
            "batch_normalization_8 (Batch (None, 6, 6, 128)         512       \n",
            "_________________________________________________________________\n",
            "flatten_4 (Flatten)          (None, 4608)              0         \n",
            "_________________________________________________________________\n",
            "dense_34 (Dense)             (None, 784)               3613456   \n",
            "_________________________________________________________________\n",
            "batch_normalization_9 (Batch (None, 784)               3136      \n",
            "_________________________________________________________________\n",
            "dense_35 (Dense)             (None, 400)               314000    \n",
            "_________________________________________________________________\n",
            "batch_normalization_10 (Batc (None, 400)               1600      \n",
            "_________________________________________________________________\n",
            "dense_36 (Dense)             (None, 128)               51328     \n",
            "_________________________________________________________________\n",
            "batch_normalization_11 (Batc (None, 128)               512       \n",
            "_________________________________________________________________\n",
            "dense_37 (Dense)             (None, 1)                 129       \n",
            "=================================================================\n",
            "Total params: 4,078,305\n",
            "Trainable params: 4,075,233\n",
            "Non-trainable params: 3,072\n",
            "_________________________________________________________________\n",
            "None\n",
            "Train on 480 samples, validate on 120 samples\n",
            "Epoch 1/30\n",
            "480/480 [==============================] - 60s 125ms/step - loss: 0.3224 - acc: 0.8542 - val_loss: 0.1682 - val_acc: 0.9417\n",
            "Epoch 2/30\n",
            "480/480 [==============================] - 7s 14ms/step - loss: 0.1333 - acc: 0.9437 - val_loss: 0.2111 - val_acc: 0.9250\n",
            "Epoch 3/30\n",
            "480/480 [==============================] - 7s 14ms/step - loss: 0.0680 - acc: 0.9833 - val_loss: 0.0736 - val_acc: 0.9667\n",
            "Epoch 4/30\n",
            "480/480 [==============================] - 7s 14ms/step - loss: 0.1005 - acc: 0.9604 - val_loss: 0.1232 - val_acc: 0.9667\n",
            "Epoch 5/30\n",
            "480/480 [==============================] - 7s 14ms/step - loss: 0.0509 - acc: 0.9875 - val_loss: 0.0323 - val_acc: 0.9917\n",
            "Epoch 6/30\n",
            "480/480 [==============================] - 7s 14ms/step - loss: 0.0288 - acc: 0.9917 - val_loss: 0.0287 - val_acc: 0.9917\n",
            "Epoch 7/30\n",
            "480/480 [==============================] - 7s 14ms/step - loss: 0.0368 - acc: 0.9875 - val_loss: 0.0573 - val_acc: 0.9667\n",
            "Epoch 8/30\n",
            "480/480 [==============================] - 7s 14ms/step - loss: 0.0197 - acc: 0.9917 - val_loss: 0.0523 - val_acc: 0.9833\n",
            "Epoch 9/30\n",
            "480/480 [==============================] - 7s 14ms/step - loss: 0.0296 - acc: 0.9875 - val_loss: 0.0866 - val_acc: 0.9750\n",
            "Epoch 10/30\n",
            "480/480 [==============================] - 7s 14ms/step - loss: 0.0290 - acc: 0.9896 - val_loss: 0.2596 - val_acc: 0.9167\n",
            "Epoch 11/30\n",
            "480/480 [==============================] - 7s 14ms/step - loss: 0.0246 - acc: 0.9938 - val_loss: 0.0770 - val_acc: 0.9667\n",
            "Epoch 12/30\n",
            "480/480 [==============================] - 7s 14ms/step - loss: 0.0139 - acc: 0.9979 - val_loss: 0.0626 - val_acc: 0.9917\n",
            "Epoch 13/30\n",
            "480/480 [==============================] - 7s 14ms/step - loss: 0.0053 - acc: 1.0000 - val_loss: 0.0467 - val_acc: 0.9833\n",
            "Epoch 14/30\n",
            "480/480 [==============================] - 7s 14ms/step - loss: 0.0118 - acc: 0.9979 - val_loss: 0.0428 - val_acc: 0.9917\n",
            "Epoch 15/30\n",
            "480/480 [==============================] - 7s 14ms/step - loss: 0.0086 - acc: 0.9979 - val_loss: 0.0734 - val_acc: 0.9750\n",
            "Epoch 16/30\n",
            "480/480 [==============================] - 7s 14ms/step - loss: 0.0069 - acc: 0.9979 - val_loss: 0.0493 - val_acc: 0.9917\n",
            "Epoch 17/30\n",
            "480/480 [==============================] - 7s 14ms/step - loss: 0.0230 - acc: 0.9896 - val_loss: 0.0890 - val_acc: 0.9833\n",
            "Epoch 18/30\n",
            "480/480 [==============================] - 7s 14ms/step - loss: 0.0216 - acc: 0.9917 - val_loss: 0.0561 - val_acc: 0.9833\n",
            "Epoch 19/30\n",
            "480/480 [==============================] - 7s 14ms/step - loss: 0.0470 - acc: 0.9812 - val_loss: 0.3522 - val_acc: 0.8833\n",
            "Epoch 20/30\n",
            "480/480 [==============================] - 7s 14ms/step - loss: 0.0359 - acc: 0.9854 - val_loss: 0.3975 - val_acc: 0.8750\n",
            "Epoch 21/30\n",
            "480/480 [==============================] - 7s 14ms/step - loss: 0.0223 - acc: 0.9958 - val_loss: 0.1760 - val_acc: 0.9750\n",
            "Epoch 22/30\n",
            "480/480 [==============================] - 7s 14ms/step - loss: 0.0139 - acc: 0.9979 - val_loss: 0.2164 - val_acc: 0.9417\n",
            "Epoch 23/30\n",
            "480/480 [==============================] - 7s 14ms/step - loss: 0.0409 - acc: 0.9896 - val_loss: 0.0398 - val_acc: 0.9833\n",
            "Epoch 24/30\n",
            "480/480 [==============================] - 7s 14ms/step - loss: 0.0173 - acc: 0.9958 - val_loss: 0.0687 - val_acc: 0.9833\n",
            "Epoch 25/30\n",
            "480/480 [==============================] - 7s 14ms/step - loss: 0.0350 - acc: 0.9875 - val_loss: 0.0872 - val_acc: 0.9667\n",
            "Epoch 26/30\n",
            "480/480 [==============================] - 7s 14ms/step - loss: 0.0291 - acc: 0.9875 - val_loss: 0.0317 - val_acc: 0.9917\n",
            "Epoch 27/30\n",
            "480/480 [==============================] - 7s 14ms/step - loss: 0.0243 - acc: 0.9917 - val_loss: 0.0880 - val_acc: 0.9833\n",
            "Epoch 28/30\n",
            "480/480 [==============================] - 7s 14ms/step - loss: 0.0120 - acc: 0.9958 - val_loss: 0.1047 - val_acc: 0.9750\n",
            "Epoch 29/30\n",
            "480/480 [==============================] - 7s 14ms/step - loss: 0.0391 - acc: 0.9833 - val_loss: 0.2129 - val_acc: 0.9667\n",
            "Epoch 30/30\n",
            "480/480 [==============================] - 7s 14ms/step - loss: 0.0280 - acc: 0.9833 - val_loss: 0.0338 - val_acc: 0.9917\n"
          ],
          "name": "stdout"
        },
        {
          "output_type": "execute_result",
          "data": {
            "text/plain": [
              "<keras.callbacks.History at 0x7f856ffbfb38>"
            ]
          },
          "metadata": {
            "tags": []
          },
          "execution_count": 52
        }
      ]
    },
    {
      "metadata": {
        "id": "8cKKK_YEWb9V",
        "colab_type": "code",
        "outputId": "95d9a567-0947-4a6e-d00c-810054d92607",
        "colab": {
          "base_uri": "https://localhost:8080/",
          "height": 51
        }
      },
      "cell_type": "code",
      "source": [
        "# Evaluate your model.\n",
        "### START CODE HERE ###\n",
        "BATCH_SIZE = 64\n",
        "test_acc = model.evaluate(X_test, Y_test, batch_size=BATCH_SIZE)\n",
        "print('Test accuracy:', test_acc)\n",
        "### END CODE HERE ###"
      ],
      "execution_count": 0,
      "outputs": [
        {
          "output_type": "stream",
          "text": [
            "150/150 [==============================] - 1s 4ms/step\n",
            "Test accuracy: [0.079706725080808, 0.9866666642824808]\n"
          ],
          "name": "stdout"
        }
      ]
    },
    {
      "metadata": {
        "id": "ADS06PsiXBZo",
        "colab_type": "code",
        "outputId": "de157eea-f3e7-4def-c5ca-b38808ffe5a9",
        "colab": {
          "base_uri": "https://localhost:8080/",
          "height": 1958
        }
      },
      "cell_type": "code",
      "source": [
        "#Create, compile and fit the model\n",
        "### START CODE HERE ### \n",
        "model = HappyModel(X_train.shape[1:])\n",
        "print(model.summary())\n",
        "\n",
        "\n",
        "EPOCHS = 30\n",
        "# TODO compile and fit the model with the appropriate parameters.\n",
        "model.compile(optimizer= SGD(lr=0.01) , \n",
        "              loss='binary_crossentropy', \n",
        "              metrics=['accuracy'])\n",
        "\n",
        "model.fit(x=X_train,y=Y_train, validation_split= 0.2, epochs=EPOCHS)\n",
        "### END CODE HERE ###\n",
        "# Evaluate your model.\n",
        "### START CODE HERE ###\n",
        "BATCH_SIZE = 64\n",
        "test_acc = model.evaluate(X_test, Y_test, batch_size=BATCH_SIZE)\n",
        "print('Test accuracy:', test_acc)\n",
        "### END CODE HERE ###"
      ],
      "execution_count": 0,
      "outputs": [
        {
          "output_type": "stream",
          "text": [
            "WARNING:tensorflow:From /usr/local/lib/python3.6/dist-packages/tensorflow/python/framework/op_def_library.py:263: colocate_with (from tensorflow.python.framework.ops) is deprecated and will be removed in a future version.\n",
            "Instructions for updating:\n",
            "Colocations handled automatically by placer.\n",
            "_________________________________________________________________\n",
            "Layer (type)                 Output Shape              Param #   \n",
            "=================================================================\n",
            "input_1 (InputLayer)         (None, 64, 64, 3)         0         \n",
            "_________________________________________________________________\n",
            "conv2d_1 (Conv2D)            (None, 62, 62, 32)        896       \n",
            "_________________________________________________________________\n",
            "max_pooling2d_1 (MaxPooling2 (None, 31, 31, 32)        0         \n",
            "_________________________________________________________________\n",
            "batch_normalization_1 (Batch (None, 31, 31, 32)        128       \n",
            "_________________________________________________________________\n",
            "conv2d_2 (Conv2D)            (None, 29, 29, 64)        18496     \n",
            "_________________________________________________________________\n",
            "max_pooling2d_2 (MaxPooling2 (None, 14, 14, 64)        0         \n",
            "_________________________________________________________________\n",
            "batch_normalization_2 (Batch (None, 14, 14, 64)        256       \n",
            "_________________________________________________________________\n",
            "conv2d_3 (Conv2D)            (None, 12, 12, 128)       73856     \n",
            "_________________________________________________________________\n",
            "max_pooling2d_3 (MaxPooling2 (None, 6, 6, 128)         0         \n",
            "_________________________________________________________________\n",
            "batch_normalization_3 (Batch (None, 6, 6, 128)         512       \n",
            "_________________________________________________________________\n",
            "flatten_1 (Flatten)          (None, 4608)              0         \n",
            "_________________________________________________________________\n",
            "dense_1 (Dense)              (None, 784)               3613456   \n",
            "_________________________________________________________________\n",
            "batch_normalization_4 (Batch (None, 784)               3136      \n",
            "_________________________________________________________________\n",
            "dense_2 (Dense)              (None, 400)               314000    \n",
            "_________________________________________________________________\n",
            "batch_normalization_5 (Batch (None, 400)               1600      \n",
            "_________________________________________________________________\n",
            "dense_3 (Dense)              (None, 128)               51328     \n",
            "_________________________________________________________________\n",
            "batch_normalization_6 (Batch (None, 128)               512       \n",
            "_________________________________________________________________\n",
            "dense_4 (Dense)              (None, 1)                 129       \n",
            "=================================================================\n",
            "Total params: 4,078,305\n",
            "Trainable params: 4,075,233\n",
            "Non-trainable params: 3,072\n",
            "_________________________________________________________________\n",
            "None\n",
            "WARNING:tensorflow:From /usr/local/lib/python3.6/dist-packages/tensorflow/python/ops/math_ops.py:3066: to_int32 (from tensorflow.python.ops.math_ops) is deprecated and will be removed in a future version.\n",
            "Instructions for updating:\n",
            "Use tf.cast instead.\n",
            "Train on 480 samples, validate on 120 samples\n",
            "Epoch 1/30\n",
            "480/480 [==============================] - 8s 16ms/step - loss: 0.4927 - acc: 0.7708 - val_loss: 0.5614 - val_acc: 0.7833\n",
            "Epoch 2/30\n",
            "480/480 [==============================] - 6s 12ms/step - loss: 0.1738 - acc: 0.9375 - val_loss: 0.1806 - val_acc: 0.9500\n",
            "Epoch 3/30\n",
            "480/480 [==============================] - 6s 12ms/step - loss: 0.0962 - acc: 0.9667 - val_loss: 0.1477 - val_acc: 0.9583\n",
            "Epoch 4/30\n",
            "480/480 [==============================] - 6s 12ms/step - loss: 0.0725 - acc: 0.9792 - val_loss: 0.1610 - val_acc: 0.9417\n",
            "Epoch 5/30\n",
            "480/480 [==============================] - 6s 12ms/step - loss: 0.0705 - acc: 0.9771 - val_loss: 0.1418 - val_acc: 0.9667\n",
            "Epoch 6/30\n",
            "480/480 [==============================] - 6s 12ms/step - loss: 0.0642 - acc: 0.9896 - val_loss: 0.0803 - val_acc: 0.9667\n",
            "Epoch 7/30\n",
            "480/480 [==============================] - 6s 12ms/step - loss: 0.0359 - acc: 0.9917 - val_loss: 0.0879 - val_acc: 0.9833\n",
            "Epoch 8/30\n",
            "480/480 [==============================] - 6s 12ms/step - loss: 0.0255 - acc: 0.9938 - val_loss: 0.0915 - val_acc: 0.9750\n",
            "Epoch 9/30\n",
            "480/480 [==============================] - 6s 12ms/step - loss: 0.0196 - acc: 0.9958 - val_loss: 0.0728 - val_acc: 0.9833\n",
            "Epoch 10/30\n",
            "480/480 [==============================] - 6s 12ms/step - loss: 0.0169 - acc: 0.9979 - val_loss: 0.0662 - val_acc: 0.9833\n",
            "Epoch 11/30\n",
            "480/480 [==============================] - 6s 12ms/step - loss: 0.0300 - acc: 0.9917 - val_loss: 0.0831 - val_acc: 0.9750\n",
            "Epoch 12/30\n",
            "480/480 [==============================] - 6s 12ms/step - loss: 0.0246 - acc: 0.9917 - val_loss: 0.0549 - val_acc: 0.9833\n",
            "Epoch 13/30\n",
            "480/480 [==============================] - 6s 12ms/step - loss: 0.0287 - acc: 0.9938 - val_loss: 0.0626 - val_acc: 0.9917\n",
            "Epoch 14/30\n",
            "480/480 [==============================] - 6s 12ms/step - loss: 0.0165 - acc: 0.9958 - val_loss: 0.0610 - val_acc: 0.9917\n",
            "Epoch 15/30\n",
            "480/480 [==============================] - 6s 12ms/step - loss: 0.0227 - acc: 0.9896 - val_loss: 0.0552 - val_acc: 0.9833\n",
            "Epoch 16/30\n",
            "480/480 [==============================] - 6s 12ms/step - loss: 0.0200 - acc: 0.9958 - val_loss: 0.0696 - val_acc: 0.9833\n",
            "Epoch 17/30\n",
            "480/480 [==============================] - 6s 12ms/step - loss: 0.0132 - acc: 0.9979 - val_loss: 0.0719 - val_acc: 0.9917\n",
            "Epoch 18/30\n",
            "480/480 [==============================] - 6s 12ms/step - loss: 0.0102 - acc: 0.9979 - val_loss: 0.0584 - val_acc: 0.9833\n",
            "Epoch 19/30\n",
            "480/480 [==============================] - 6s 12ms/step - loss: 0.0135 - acc: 1.0000 - val_loss: 0.0532 - val_acc: 0.9917\n",
            "Epoch 20/30\n",
            "480/480 [==============================] - 6s 12ms/step - loss: 0.0085 - acc: 1.0000 - val_loss: 0.0531 - val_acc: 0.9917\n",
            "Epoch 21/30\n",
            "480/480 [==============================] - 6s 13ms/step - loss: 0.0088 - acc: 1.0000 - val_loss: 0.0545 - val_acc: 0.9833\n",
            "Epoch 22/30\n",
            "480/480 [==============================] - 6s 12ms/step - loss: 0.0078 - acc: 0.9979 - val_loss: 0.0495 - val_acc: 0.9833\n",
            "Epoch 23/30\n",
            "480/480 [==============================] - 6s 12ms/step - loss: 0.0067 - acc: 1.0000 - val_loss: 0.0468 - val_acc: 0.9917\n",
            "Epoch 24/30\n",
            "480/480 [==============================] - 6s 13ms/step - loss: 0.0050 - acc: 1.0000 - val_loss: 0.0493 - val_acc: 0.9917\n",
            "Epoch 25/30\n",
            "480/480 [==============================] - 6s 13ms/step - loss: 0.0045 - acc: 1.0000 - val_loss: 0.0429 - val_acc: 0.9917\n",
            "Epoch 26/30\n",
            "480/480 [==============================] - 6s 12ms/step - loss: 0.0165 - acc: 0.9979 - val_loss: 0.0480 - val_acc: 0.9750\n",
            "Epoch 27/30\n",
            "480/480 [==============================] - 6s 12ms/step - loss: 0.0056 - acc: 1.0000 - val_loss: 0.0480 - val_acc: 0.9917\n",
            "Epoch 28/30\n",
            "480/480 [==============================] - 6s 12ms/step - loss: 0.0045 - acc: 1.0000 - val_loss: 0.0447 - val_acc: 0.9917\n",
            "Epoch 29/30\n",
            "480/480 [==============================] - 6s 12ms/step - loss: 0.0062 - acc: 1.0000 - val_loss: 0.0537 - val_acc: 0.9917\n",
            "Epoch 30/30\n",
            "480/480 [==============================] - 6s 12ms/step - loss: 0.0048 - acc: 1.0000 - val_loss: 0.0525 - val_acc: 0.9833\n",
            "150/150 [==============================] - 1s 3ms/step\n",
            "Test accuracy: [0.098056420981884, 0.9733333309491475]\n"
          ],
          "name": "stdout"
        }
      ]
    },
    {
      "metadata": {
        "id": "GZ297Ep-HxIa",
        "colab_type": "text"
      },
      "cell_type": "markdown",
      "source": [
        "VGG model\n",
        "-------------"
      ]
    },
    {
      "metadata": {
        "id": "ncbbEZk6P2Rt",
        "colab_type": "code",
        "colab": {}
      },
      "cell_type": "code",
      "source": [
        "def Vgg_Model(input_shape):\n",
        "  inputs = Input(input_shape)\n",
        "  x = VGG16(include_top = False, pooling ='avg', weights = None, input_shape= input_shape)(inputs)\n",
        "  prediction = Dense(1, activation = 'sigmoid')(x)\n",
        "  model = Model(inputs, outputs=prediction)\n",
        "  return model"
      ],
      "execution_count": 0,
      "outputs": []
    },
    {
      "metadata": {
        "id": "n8IfGsUPzjG-",
        "colab_type": "code",
        "colab": {}
      },
      "cell_type": "code",
      "source": [
        "def Pretrained_Vgg_Model(input_shape, freeze):\n",
        "  inputs = Input(input_shape)\n",
        "  x = VGG16(include_top = False, pooling ='avg', weights = 'imagenet', input_shape= input_shape)(inputs)\n",
        "  prediction = Dense(1, activation = 'sigmoid')(x)\n",
        "  model = Model(inputs, outputs=prediction)\n",
        "  if (freeze == True): \n",
        "    model.layers[1].trainable = False\n",
        "  return model"
      ],
      "execution_count": 0,
      "outputs": []
    },
    {
      "metadata": {
        "id": "WZJFD9fKPMx_",
        "colab_type": "code",
        "colab": {}
      },
      "cell_type": "code",
      "source": [
        "def Pretrained_Reg_Vgg_Model(input_shape, freeze, dropOut):\n",
        "  inputs = Input(input_shape)\n",
        "  x = VGG16(include_top = False, pooling ='avg', weights = 'imagenet', input_shape= input_shape)(inputs)\n",
        "  x = Dropout(dropOut)(x)\n",
        "  prediction = Dense(1, activation = 'sigmoid')(x)\n",
        "  model = Model(inputs, outputs=prediction)\n",
        "  if (freeze == True): \n",
        "    model.layers[1].trainable = False\n",
        "  return model"
      ],
      "execution_count": 0,
      "outputs": []
    },
    {
      "metadata": {
        "id": "jcOSUafVQH5u",
        "colab_type": "code",
        "outputId": "10f16115-6b60-4cc9-c23d-ec9d3296c3f0",
        "colab": {
          "base_uri": "https://localhost:8080/",
          "height": 666
        }
      },
      "cell_type": "code",
      "source": [
        "model = Vgg_Model(X_train.shape[1:])\n",
        "print(model.summary())\n",
        "model.compile(optimizer= 'adam' , \n",
        "              loss='binary_crossentropy', \n",
        "              metrics=['accuracy'])\n",
        "\n",
        "model.fit(x=X_train,y=Y_train, validation_split= 0.2, epochs=10)\n",
        "BATCH_SIZE = 64\n",
        "\n",
        "test_acc = model.evaluate(X_test, Y_test, batch_size=BATCH_SIZE)\n",
        "print('Test accuracy:', test_acc)"
      ],
      "execution_count": 0,
      "outputs": [
        {
          "output_type": "stream",
          "text": [
            "_________________________________________________________________\n",
            "Layer (type)                 Output Shape              Param #   \n",
            "=================================================================\n",
            "input_19 (InputLayer)        (None, 64, 64, 3)         0         \n",
            "_________________________________________________________________\n",
            "vgg16 (Model)                (None, 512)               14714688  \n",
            "_________________________________________________________________\n",
            "dense_13 (Dense)             (None, 1)                 513       \n",
            "=================================================================\n",
            "Total params: 14,715,201\n",
            "Trainable params: 14,715,201\n",
            "Non-trainable params: 0\n",
            "_________________________________________________________________\n",
            "None\n",
            "Train on 480 samples, validate on 120 samples\n",
            "Epoch 1/10\n",
            "480/480 [==============================] - 127s 265ms/step - loss: 7.8366 - acc: 0.4792 - val_loss: 7.2531 - val_acc: 0.5500\n",
            "Epoch 2/10\n",
            "480/480 [==============================] - 95s 198ms/step - loss: 8.2605 - acc: 0.4875 - val_loss: 7.2531 - val_acc: 0.5500\n",
            "Epoch 3/10\n",
            "480/480 [==============================] - 95s 198ms/step - loss: 8.2605 - acc: 0.4875 - val_loss: 7.2531 - val_acc: 0.5500\n",
            "Epoch 4/10\n",
            "480/480 [==============================] - 95s 197ms/step - loss: 8.2605 - acc: 0.4875 - val_loss: 7.2531 - val_acc: 0.5500\n",
            "Epoch 5/10\n",
            "480/480 [==============================] - 95s 199ms/step - loss: 8.2605 - acc: 0.4875 - val_loss: 7.2531 - val_acc: 0.5500\n",
            "Epoch 6/10\n",
            "480/480 [==============================] - 95s 197ms/step - loss: 8.2605 - acc: 0.4875 - val_loss: 7.2531 - val_acc: 0.5500\n",
            "Epoch 7/10\n",
            "480/480 [==============================] - 95s 197ms/step - loss: 8.2605 - acc: 0.4875 - val_loss: 7.2531 - val_acc: 0.5500\n",
            "Epoch 8/10\n",
            "480/480 [==============================] - 95s 199ms/step - loss: 8.2605 - acc: 0.4875 - val_loss: 7.2531 - val_acc: 0.5500\n",
            "Epoch 9/10\n",
            "480/480 [==============================] - 94s 195ms/step - loss: 8.2605 - acc: 0.4875 - val_loss: 7.2531 - val_acc: 0.5500\n",
            "Epoch 10/10\n",
            "480/480 [==============================] - 94s 195ms/step - loss: 8.2605 - acc: 0.4875 - val_loss: 7.2531 - val_acc: 0.5500\n",
            "150/150 [==============================] - 7s 46ms/step\n",
            "Test accuracy: [9.026133677164713, 0.4400000015894572]\n"
          ],
          "name": "stdout"
        }
      ]
    },
    {
      "metadata": {
        "id": "eJgtWL1g6R4R",
        "colab_type": "code",
        "outputId": "07ff56c2-0f33-4e2d-fe41-25001f40d1cb",
        "colab": {
          "base_uri": "https://localhost:8080/",
          "height": 666
        }
      },
      "cell_type": "code",
      "source": [
        "model = Pretrained_Vgg_Model(X_train.shape[1:], False)\n",
        "print(model.summary())\n",
        "model.compile(optimizer= 'adam' , \n",
        "              loss='binary_crossentropy', \n",
        "              metrics=['accuracy'])\n",
        "\n",
        "model.fit(x=X_train,y=Y_train, validation_split= 0.2, epochs=10)\n",
        "BATCH_SIZE = 64\n",
        "\n",
        "test_acc = model.evaluate(X_test, Y_test, batch_size=BATCH_SIZE)\n",
        "print('Test accuracy:', test_acc)"
      ],
      "execution_count": 0,
      "outputs": [
        {
          "output_type": "stream",
          "text": [
            "_________________________________________________________________\n",
            "Layer (type)                 Output Shape              Param #   \n",
            "=================================================================\n",
            "input_13 (InputLayer)        (None, 64, 64, 3)         0         \n",
            "_________________________________________________________________\n",
            "vgg16 (Model)                (None, 512)               14714688  \n",
            "_________________________________________________________________\n",
            "dense_10 (Dense)             (None, 1)                 513       \n",
            "=================================================================\n",
            "Total params: 14,715,201\n",
            "Trainable params: 14,715,201\n",
            "Non-trainable params: 0\n",
            "_________________________________________________________________\n",
            "None\n",
            "Train on 480 samples, validate on 120 samples\n",
            "Epoch 1/10\n",
            "480/480 [==============================] - 124s 259ms/step - loss: 7.3531 - acc: 0.5167 - val_loss: 8.7683 - val_acc: 0.4500\n",
            "Epoch 2/10\n",
            "480/480 [==============================] - 93s 194ms/step - loss: 7.7719 - acc: 0.5125 - val_loss: 8.7683 - val_acc: 0.4500\n",
            "Epoch 3/10\n",
            "480/480 [==============================] - 92s 193ms/step - loss: 7.7719 - acc: 0.5125 - val_loss: 8.7683 - val_acc: 0.4500\n",
            "Epoch 4/10\n",
            "480/480 [==============================] - 94s 195ms/step - loss: 7.7719 - acc: 0.5125 - val_loss: 8.7683 - val_acc: 0.4500\n",
            "Epoch 5/10\n",
            "480/480 [==============================] - 92s 192ms/step - loss: 7.7719 - acc: 0.5125 - val_loss: 8.7683 - val_acc: 0.4500\n",
            "Epoch 6/10\n",
            "480/480 [==============================] - 93s 194ms/step - loss: 7.7719 - acc: 0.5125 - val_loss: 8.7683 - val_acc: 0.4500\n",
            "Epoch 7/10\n",
            "480/480 [==============================] - 93s 193ms/step - loss: 7.7719 - acc: 0.5125 - val_loss: 8.7683 - val_acc: 0.4500\n",
            "Epoch 8/10\n",
            "480/480 [==============================] - 91s 191ms/step - loss: 7.7719 - acc: 0.5125 - val_loss: 8.7683 - val_acc: 0.4500\n",
            "Epoch 9/10\n",
            "480/480 [==============================] - 93s 194ms/step - loss: 7.7719 - acc: 0.5125 - val_loss: 8.7683 - val_acc: 0.4500\n",
            "Epoch 10/10\n",
            "480/480 [==============================] - 92s 191ms/step - loss: 7.7719 - acc: 0.5125 - val_loss: 8.7683 - val_acc: 0.4500\n",
            "150/150 [==============================] - 7s 46ms/step\n",
            "Test accuracy: [7.014649340311686, 0.5599999984105428]\n"
          ],
          "name": "stdout"
        }
      ]
    },
    {
      "metadata": {
        "id": "Go2F9sN1BQ-p",
        "colab_type": "code",
        "outputId": "7d81f0f3-5d00-4c29-e915-cc49bef46976",
        "colab": {
          "base_uri": "https://localhost:8080/",
          "height": 1040
        }
      },
      "cell_type": "code",
      "source": [
        "model = Pretrained_Vgg_Model(X_train.shape[1:], True)\n",
        "print(model.summary())\n",
        "model.compile(optimizer= Adam(lr=0.02) , \n",
        "              loss='binary_crossentropy', \n",
        "              metrics=['accuracy'])\n",
        "\n",
        "model.fit(x=X_train,y=Y_train, validation_split= 0.2, epochs=20)\n",
        "BATCH_SIZE = 64\n",
        "\n",
        "test_acc = model.evaluate(X_test, Y_test, batch_size=BATCH_SIZE)\n",
        "print('Test accuracy:', test_acc)"
      ],
      "execution_count": 0,
      "outputs": [
        {
          "output_type": "stream",
          "text": [
            "Downloading data from https://github.com/fchollet/deep-learning-models/releases/download/v0.1/vgg16_weights_tf_dim_ordering_tf_kernels_notop.h5\n",
            "58892288/58889256 [==============================] - 1s 0us/step\n",
            "_________________________________________________________________\n",
            "Layer (type)                 Output Shape              Param #   \n",
            "=================================================================\n",
            "input_2 (InputLayer)         (None, 64, 64, 3)         0         \n",
            "_________________________________________________________________\n",
            "vgg16 (Model)                (None, 512)               14714688  \n",
            "_________________________________________________________________\n",
            "dense_5 (Dense)              (None, 1)                 513       \n",
            "=================================================================\n",
            "Total params: 14,715,201\n",
            "Trainable params: 513\n",
            "Non-trainable params: 14,714,688\n",
            "_________________________________________________________________\n",
            "None\n",
            "Train on 480 samples, validate on 120 samples\n",
            "Epoch 1/20\n",
            "480/480 [==============================] - 27s 56ms/step - loss: 0.7218 - acc: 0.5375 - val_loss: 0.6236 - val_acc: 0.5833\n",
            "Epoch 2/20\n",
            "480/480 [==============================] - 26s 55ms/step - loss: 0.5089 - acc: 0.7792 - val_loss: 0.4552 - val_acc: 0.8833\n",
            "Epoch 3/20\n",
            "480/480 [==============================] - 26s 55ms/step - loss: 0.4040 - acc: 0.8792 - val_loss: 0.4427 - val_acc: 0.7500\n",
            "Epoch 4/20\n",
            "480/480 [==============================] - 27s 55ms/step - loss: 0.3542 - acc: 0.8958 - val_loss: 0.3457 - val_acc: 0.9667\n",
            "Epoch 5/20\n",
            "480/480 [==============================] - 26s 55ms/step - loss: 0.3097 - acc: 0.9292 - val_loss: 0.3045 - val_acc: 0.8833\n",
            "Epoch 6/20\n",
            "480/480 [==============================] - 26s 55ms/step - loss: 0.2717 - acc: 0.9437 - val_loss: 0.2768 - val_acc: 0.9917\n",
            "Epoch 7/20\n",
            "480/480 [==============================] - 26s 55ms/step - loss: 0.2461 - acc: 0.9563 - val_loss: 0.2463 - val_acc: 0.9833\n",
            "Epoch 8/20\n",
            "480/480 [==============================] - 26s 55ms/step - loss: 0.2273 - acc: 0.9500 - val_loss: 0.2342 - val_acc: 0.9417\n",
            "Epoch 9/20\n",
            "480/480 [==============================] - 26s 55ms/step - loss: 0.2142 - acc: 0.9521 - val_loss: 0.2105 - val_acc: 0.9833\n",
            "Epoch 10/20\n",
            "480/480 [==============================] - 26s 55ms/step - loss: 0.2001 - acc: 0.9521 - val_loss: 0.2031 - val_acc: 0.9750\n",
            "Epoch 11/20\n",
            "480/480 [==============================] - 26s 55ms/step - loss: 0.1869 - acc: 0.9563 - val_loss: 0.1843 - val_acc: 0.9750\n",
            "Epoch 12/20\n",
            "480/480 [==============================] - 26s 55ms/step - loss: 0.1952 - acc: 0.9542 - val_loss: 0.1934 - val_acc: 0.9750\n",
            "Epoch 13/20\n",
            "480/480 [==============================] - 26s 55ms/step - loss: 0.1673 - acc: 0.9729 - val_loss: 0.1733 - val_acc: 0.9750\n",
            "Epoch 14/20\n",
            "480/480 [==============================] - 26s 55ms/step - loss: 0.1580 - acc: 0.9708 - val_loss: 0.1603 - val_acc: 0.9750\n",
            "Epoch 15/20\n",
            "480/480 [==============================] - 26s 55ms/step - loss: 0.1462 - acc: 0.9771 - val_loss: 0.1501 - val_acc: 0.9833\n",
            "Epoch 16/20\n",
            "480/480 [==============================] - 27s 56ms/step - loss: 0.1425 - acc: 0.9708 - val_loss: 0.1473 - val_acc: 0.9833\n",
            "Epoch 17/20\n",
            "480/480 [==============================] - 26s 55ms/step - loss: 0.1317 - acc: 0.9750 - val_loss: 0.1402 - val_acc: 0.9833\n",
            "Epoch 18/20\n",
            "480/480 [==============================] - 26s 55ms/step - loss: 0.1267 - acc: 0.9812 - val_loss: 0.1319 - val_acc: 0.9750\n",
            "Epoch 19/20\n",
            "480/480 [==============================] - 26s 55ms/step - loss: 0.1222 - acc: 0.9812 - val_loss: 0.1285 - val_acc: 0.9750\n",
            "Epoch 20/20\n",
            "480/480 [==============================] - 26s 55ms/step - loss: 0.1153 - acc: 0.9854 - val_loss: 0.1271 - val_acc: 0.9833\n",
            "150/150 [==============================] - 7s 46ms/step\n",
            "Test accuracy: [0.1721973224480947, 0.9599999976158142]\n"
          ],
          "name": "stdout"
        }
      ]
    },
    {
      "metadata": {
        "id": "t4F9AEeOPDgR",
        "colab_type": "code",
        "outputId": "287b86c1-396f-4e7f-d99c-f71a27f0208a",
        "colab": {
          "base_uri": "https://localhost:8080/",
          "height": 700
        }
      },
      "cell_type": "code",
      "source": [
        "model = Pretrained_Reg_Vgg_Model(X_train.shape[1:], True, 0.2 )\n",
        "print(model.summary())\n",
        "model.compile(optimizer= Adam(0.04) , \n",
        "              loss='binary_crossentropy', \n",
        "              metrics=['accuracy'])\n",
        "\n",
        "model.fit(x=X_train,y=Y_train, validation_split= 0.2, epochs=10)\n",
        "BATCH_SIZE = 64\n",
        "\n",
        "test_acc = model.evaluate(X_test, Y_test, batch_size=BATCH_SIZE)\n",
        "print('Test accuracy:', test_acc)"
      ],
      "execution_count": 0,
      "outputs": [
        {
          "output_type": "stream",
          "text": [
            "_________________________________________________________________\n",
            "Layer (type)                 Output Shape              Param #   \n",
            "=================================================================\n",
            "input_6 (InputLayer)         (None, 64, 64, 3)         0         \n",
            "_________________________________________________________________\n",
            "vgg16 (Model)                (None, 512)               14714688  \n",
            "_________________________________________________________________\n",
            "dropout_2 (Dropout)          (None, 512)               0         \n",
            "_________________________________________________________________\n",
            "dense_7 (Dense)              (None, 1)                 513       \n",
            "=================================================================\n",
            "Total params: 14,715,201\n",
            "Trainable params: 513\n",
            "Non-trainable params: 14,714,688\n",
            "_________________________________________________________________\n",
            "None\n",
            "Train on 480 samples, validate on 120 samples\n",
            "Epoch 1/10\n",
            "480/480 [==============================] - 27s 57ms/step - loss: 0.7835 - acc: 0.5771 - val_loss: 0.5248 - val_acc: 0.7417\n",
            "Epoch 2/10\n",
            "480/480 [==============================] - 27s 56ms/step - loss: 0.4664 - acc: 0.7688 - val_loss: 0.3821 - val_acc: 0.9167\n",
            "Epoch 3/10\n",
            "480/480 [==============================] - 27s 56ms/step - loss: 0.3697 - acc: 0.8417 - val_loss: 0.3496 - val_acc: 0.8417\n",
            "Epoch 4/10\n",
            "480/480 [==============================] - 27s 56ms/step - loss: 0.3359 - acc: 0.8688 - val_loss: 0.2703 - val_acc: 0.9833\n",
            "Epoch 5/10\n",
            "480/480 [==============================] - 27s 56ms/step - loss: 0.2662 - acc: 0.9146 - val_loss: 0.2312 - val_acc: 0.9333\n",
            "Epoch 6/10\n",
            "480/480 [==============================] - 27s 56ms/step - loss: 0.2396 - acc: 0.9375 - val_loss: 0.2136 - val_acc: 0.9750\n",
            "Epoch 7/10\n",
            "480/480 [==============================] - 27s 56ms/step - loss: 0.2137 - acc: 0.9333 - val_loss: 0.2042 - val_acc: 0.9750\n",
            "Epoch 8/10\n",
            "480/480 [==============================] - 27s 56ms/step - loss: 0.2132 - acc: 0.9146 - val_loss: 0.1721 - val_acc: 0.9833\n",
            "Epoch 9/10\n",
            "480/480 [==============================] - 27s 56ms/step - loss: 0.2044 - acc: 0.9250 - val_loss: 0.2031 - val_acc: 0.9667\n",
            "Epoch 10/10\n",
            "480/480 [==============================] - 27s 56ms/step - loss: 0.2379 - acc: 0.9000 - val_loss: 0.2400 - val_acc: 0.8583\n",
            "150/150 [==============================] - 7s 45ms/step\n",
            "Test accuracy: [0.38421772003173826, 0.8200000015894572]\n"
          ],
          "name": "stdout"
        }
      ]
    },
    {
      "metadata": {
        "id": "AP0qeLjpH3e2",
        "colab_type": "text"
      },
      "cell_type": "markdown",
      "source": [
        "Resnet50 Model\n",
        "-------------------"
      ]
    },
    {
      "metadata": {
        "id": "QdTypHDUSFn4",
        "colab_type": "code",
        "colab": {}
      },
      "cell_type": "code",
      "source": [
        "def Resnet_Model(input_shape):\n",
        "  inputs = Input(input_shape)\n",
        "  x = ResNet50(include_top = False, pooling ='avg', weights = None, input_shape= input_shape)(inputs)  \n",
        "  prediction = Dense(1, activation = 'sigmoid')(x)\n",
        "  model = Model(inputs, outputs=prediction)\n",
        "  \n",
        "  return model"
      ],
      "execution_count": 0,
      "outputs": []
    },
    {
      "metadata": {
        "id": "snwc4gJmKt8C",
        "colab_type": "code",
        "colab": {}
      },
      "cell_type": "code",
      "source": [
        "def Resnet_Reg_Model(input_shape, dropOut):\n",
        "  inputs = Input(input_shape)\n",
        "  x = ResNet50(include_top = False, pooling ='avg', weights = None, input_shape= input_shape)(inputs)  \n",
        "  x = Dropout(dropOut)(x)\n",
        "  prediction = Dense(1, activation = 'sigmoid')(x)\n",
        "  model = Model(inputs, outputs=prediction)\n",
        "  \n",
        "  return model"
      ],
      "execution_count": 0,
      "outputs": []
    },
    {
      "metadata": {
        "id": "nISLhVPDzxFT",
        "colab_type": "code",
        "colab": {}
      },
      "cell_type": "code",
      "source": [
        "def Pretrained_Resnet_Model(input_shape, freeze):\n",
        "  inputs = Input(input_shape)\n",
        "  x = ResNet50(include_top = False, pooling ='avg', weights = 'imagenet', input_shape= input_shape)(inputs)\n",
        "  prediction = Dense(1, activation = 'sigmoid')(x)\n",
        "  model = Model(inputs, outputs=prediction)\n",
        "  if freeze == True:\n",
        "    model.layers[1].trainable = False\n",
        "  return model"
      ],
      "execution_count": 0,
      "outputs": []
    },
    {
      "metadata": {
        "id": "tdHfv1v3M6g8",
        "colab_type": "code",
        "colab": {}
      },
      "cell_type": "code",
      "source": [
        "def Pretrained_Reg_Resnet_Model(input_shape, freeze, dropOut):\n",
        "  inputs = Input(input_shape)\n",
        "  x = ResNet50(include_top = False, pooling ='avg', weights = 'imagenet', input_shape= input_shape)(inputs)\n",
        "  x = Dropout(dropOut)(x)\n",
        "  prediction = Dense(1, activation = 'sigmoid')(x)\n",
        "  model = Model(inputs, outputs=prediction)\n",
        "  if freeze == True:\n",
        "    model.layers[1].trainable = False\n",
        "  return model"
      ],
      "execution_count": 0,
      "outputs": []
    },
    {
      "metadata": {
        "id": "cnAPbhQfodWM",
        "colab_type": "code",
        "outputId": "19354c85-a086-4b24-aef7-715c6d7d9974",
        "colab": {
          "base_uri": "https://localhost:8080/",
          "height": 666
        }
      },
      "cell_type": "code",
      "source": [
        "\n",
        "model = Resnet_Model(X_train.shape[1:])\n",
        "print(model.summary())\n",
        "model.compile(optimizer= 'adam' , \n",
        "              loss='binary_crossentropy', \n",
        "              metrics=['accuracy'])\n",
        "hist = model.fit(x=X_train,y=Y_train, validation_split= 0.2, epochs=10)\n",
        "BATCH_SIZE = 64\n",
        "test_acc = model.evaluate(X_test, Y_test, batch_size=BATCH_SIZE)\n",
        "print('Test accuracy:', test_acc)"
      ],
      "execution_count": 0,
      "outputs": [
        {
          "output_type": "stream",
          "text": [
            "_________________________________________________________________\n",
            "Layer (type)                 Output Shape              Param #   \n",
            "=================================================================\n",
            "input_7 (InputLayer)         (None, 64, 64, 3)         0         \n",
            "_________________________________________________________________\n",
            "resnet50 (Model)             (None, 2048)              23587712  \n",
            "_________________________________________________________________\n",
            "dense_7 (Dense)              (None, 1)                 2049      \n",
            "=================================================================\n",
            "Total params: 23,589,761\n",
            "Trainable params: 23,536,641\n",
            "Non-trainable params: 53,120\n",
            "_________________________________________________________________\n",
            "None\n",
            "Train on 480 samples, validate on 120 samples\n",
            "Epoch 1/10\n",
            "480/480 [==============================] - 104s 216ms/step - loss: 0.8289 - acc: 0.7188 - val_loss: 8.7683 - val_acc: 0.4500\n",
            "Epoch 2/10\n",
            "480/480 [==============================] - 73s 152ms/step - loss: 0.4021 - acc: 0.8583 - val_loss: 8.3849 - val_acc: 0.4500\n",
            "Epoch 3/10\n",
            "480/480 [==============================] - 73s 152ms/step - loss: 0.2256 - acc: 0.9313 - val_loss: 5.7520 - val_acc: 0.4500\n",
            "Epoch 4/10\n",
            "480/480 [==============================] - 73s 153ms/step - loss: 0.0773 - acc: 0.9688 - val_loss: 8.1646 - val_acc: 0.4500\n",
            "Epoch 5/10\n",
            "480/480 [==============================] - 72s 151ms/step - loss: 0.0190 - acc: 0.9917 - val_loss: 3.1256 - val_acc: 0.6250\n",
            "Epoch 6/10\n",
            "480/480 [==============================] - 72s 150ms/step - loss: 0.0768 - acc: 0.9771 - val_loss: 0.6207 - val_acc: 0.9083\n",
            "Epoch 7/10\n",
            "480/480 [==============================] - 73s 152ms/step - loss: 0.1210 - acc: 0.9667 - val_loss: 0.2045 - val_acc: 0.9417\n",
            "Epoch 8/10\n",
            "480/480 [==============================] - 72s 150ms/step - loss: 0.0431 - acc: 0.9875 - val_loss: 0.3293 - val_acc: 0.8917\n",
            "Epoch 9/10\n",
            "480/480 [==============================] - 73s 151ms/step - loss: 0.0450 - acc: 0.9875 - val_loss: 0.4340 - val_acc: 0.8583\n",
            "Epoch 10/10\n",
            "480/480 [==============================] - 73s 152ms/step - loss: 0.0717 - acc: 0.9833 - val_loss: 0.1670 - val_acc: 0.9583\n",
            "150/150 [==============================] - 4s 24ms/step\n",
            "Test accuracy: [0.327624892393748, 0.9466666642824809]\n"
          ],
          "name": "stdout"
        }
      ]
    },
    {
      "metadata": {
        "id": "0q1Em6AxK-ta",
        "colab_type": "code",
        "outputId": "45012049-af8c-4b7b-e42c-c8fa7c084975",
        "colab": {
          "base_uri": "https://localhost:8080/",
          "height": 751
        }
      },
      "cell_type": "code",
      "source": [
        "model = Resnet_Reg_Model(X_train.shape[1:], 0.2)\n",
        "print(model.summary())\n",
        "model.compile(optimizer= 'adam' , \n",
        "              loss='binary_crossentropy', \n",
        "              metrics=['accuracy'])\n",
        "hist = model.fit(x=X_train,y=Y_train, validation_split= 0.2, epochs=10)\n",
        "BATCH_SIZE = 64\n",
        "test_acc = model.evaluate(X_test, Y_test, batch_size=BATCH_SIZE)\n",
        "print('Test accuracy:', test_acc)"
      ],
      "execution_count": 0,
      "outputs": [
        {
          "output_type": "stream",
          "text": [
            "WARNING:tensorflow:From /usr/local/lib/python3.6/dist-packages/keras/backend/tensorflow_backend.py:3445: calling dropout (from tensorflow.python.ops.nn_ops) with keep_prob is deprecated and will be removed in a future version.\n",
            "Instructions for updating:\n",
            "Please use `rate` instead of `keep_prob`. Rate should be set to `rate = 1 - keep_prob`.\n",
            "_________________________________________________________________\n",
            "Layer (type)                 Output Shape              Param #   \n",
            "=================================================================\n",
            "input_9 (InputLayer)         (None, 64, 64, 3)         0         \n",
            "_________________________________________________________________\n",
            "resnet50 (Model)             (None, 2048)              23587712  \n",
            "_________________________________________________________________\n",
            "dropout_1 (Dropout)          (None, 2048)              0         \n",
            "_________________________________________________________________\n",
            "dense_8 (Dense)              (None, 1)                 2049      \n",
            "=================================================================\n",
            "Total params: 23,589,761\n",
            "Trainable params: 23,536,641\n",
            "Non-trainable params: 53,120\n",
            "_________________________________________________________________\n",
            "None\n",
            "Train on 480 samples, validate on 120 samples\n",
            "Epoch 1/10\n",
            "480/480 [==============================] - 107s 223ms/step - loss: 1.0662 - acc: 0.6604 - val_loss: 7.2531 - val_acc: 0.5500\n",
            "Epoch 2/10\n",
            "480/480 [==============================] - 73s 151ms/step - loss: 0.4705 - acc: 0.8583 - val_loss: 4.5117 - val_acc: 0.4500\n",
            "Epoch 3/10\n",
            "480/480 [==============================] - 73s 151ms/step - loss: 0.2470 - acc: 0.9354 - val_loss: 7.2531 - val_acc: 0.5500\n",
            "Epoch 4/10\n",
            "480/480 [==============================] - 74s 154ms/step - loss: 0.2393 - acc: 0.9563 - val_loss: 2.1391 - val_acc: 0.5667\n",
            "Epoch 5/10\n",
            "480/480 [==============================] - 74s 153ms/step - loss: 0.2390 - acc: 0.9250 - val_loss: 1.3615 - val_acc: 0.7167\n",
            "Epoch 6/10\n",
            "480/480 [==============================] - 73s 152ms/step - loss: 0.1515 - acc: 0.9688 - val_loss: 0.0902 - val_acc: 0.9667\n",
            "Epoch 7/10\n",
            "480/480 [==============================] - 73s 153ms/step - loss: 0.0229 - acc: 0.9938 - val_loss: 0.1382 - val_acc: 0.9417\n",
            "Epoch 8/10\n",
            "480/480 [==============================] - 74s 154ms/step - loss: 0.0992 - acc: 0.9875 - val_loss: 0.1278 - val_acc: 0.9667\n",
            "Epoch 9/10\n",
            "480/480 [==============================] - 74s 153ms/step - loss: 0.0050 - acc: 0.9979 - val_loss: 0.0075 - val_acc: 1.0000\n",
            "Epoch 10/10\n",
            "480/480 [==============================] - 74s 153ms/step - loss: 0.0516 - acc: 0.9812 - val_loss: 0.1407 - val_acc: 0.9583\n",
            "150/150 [==============================] - 4s 24ms/step\n",
            "Test accuracy: [0.40423263470331827, 0.920000003973643]\n"
          ],
          "name": "stdout"
        }
      ]
    },
    {
      "metadata": {
        "id": "MQDhcp9vLDCN",
        "colab_type": "code",
        "colab": {}
      },
      "cell_type": "code",
      "source": [
        "model = Resnet_Reg_Model(X_train.shape[1:], 0.1)\n",
        "print(model.summary())\n",
        "model.compile(optimizer= 'adam' , \n",
        "              loss='binary_crossentropy', \n",
        "              metrics=['accuracy'])\n",
        "hist = model.fit(x=X_train,y=Y_train, validation_split= 0.2, epochs=10)\n",
        "BATCH_SIZE = 64\n",
        "test_acc = model.evaluate(X_test, Y_test, batch_size=BATCH_SIZE)\n",
        "print('Test accuracy:', test_acc)"
      ],
      "execution_count": 0,
      "outputs": []
    },
    {
      "metadata": {
        "id": "u2jVsCbPC3dM",
        "colab_type": "code",
        "outputId": "e0f15d4b-398e-4d61-9635-2c31e0c579be",
        "colab": {
          "base_uri": "https://localhost:8080/",
          "height": 666
        }
      },
      "cell_type": "code",
      "source": [
        "model = Pretrained_Resnet_Model(X_train.shape[1:], False)\n",
        "print(model.summary())\n",
        "model.compile(optimizer= 'adam' , \n",
        "              loss='binary_crossentropy', \n",
        "              metrics=['accuracy'])\n",
        "hist = model.fit(x=X_train,y=Y_train, validation_split= 0.2, epochs=10)\n",
        "BATCH_SIZE = 64\n",
        "\n",
        "test_acc = model.evaluate(X_test, Y_test, batch_size=BATCH_SIZE)\n",
        "print('Test accuracy:', test_acc)"
      ],
      "execution_count": 0,
      "outputs": [
        {
          "output_type": "stream",
          "text": [
            "_________________________________________________________________\n",
            "Layer (type)                 Output Shape              Param #   \n",
            "=================================================================\n",
            "input_3 (InputLayer)         (None, 64, 64, 3)         0         \n",
            "_________________________________________________________________\n",
            "resnet50 (Model)             (None, 2048)              23587712  \n",
            "_________________________________________________________________\n",
            "dense_5 (Dense)              (None, 1)                 2049      \n",
            "=================================================================\n",
            "Total params: 23,589,761\n",
            "Trainable params: 23,536,641\n",
            "Non-trainable params: 53,120\n",
            "_________________________________________________________________\n",
            "None\n",
            "Train on 480 samples, validate on 120 samples\n",
            "Epoch 1/10\n",
            "480/480 [==============================] - 91s 189ms/step - loss: 0.9256 - acc: 0.7021 - val_loss: 0.6096 - val_acc: 0.6833\n",
            "Epoch 2/10\n",
            "480/480 [==============================] - 73s 152ms/step - loss: 0.4961 - acc: 0.8083 - val_loss: 0.5000 - val_acc: 0.7833\n",
            "Epoch 3/10\n",
            "480/480 [==============================] - 74s 153ms/step - loss: 0.3531 - acc: 0.8625 - val_loss: 0.3423 - val_acc: 0.8333\n",
            "Epoch 4/10\n",
            "480/480 [==============================] - 73s 152ms/step - loss: 0.2408 - acc: 0.9354 - val_loss: 0.2141 - val_acc: 0.9583\n",
            "Epoch 5/10\n",
            "480/480 [==============================] - 74s 153ms/step - loss: 0.1423 - acc: 0.9688 - val_loss: 0.1255 - val_acc: 0.9833\n",
            "Epoch 6/10\n",
            "480/480 [==============================] - 73s 153ms/step - loss: 0.1090 - acc: 0.9729 - val_loss: 0.0940 - val_acc: 0.9750\n",
            "Epoch 7/10\n",
            "480/480 [==============================] - 73s 152ms/step - loss: 0.0454 - acc: 0.9896 - val_loss: 0.1175 - val_acc: 0.9750\n",
            "Epoch 8/10\n",
            "480/480 [==============================] - 74s 153ms/step - loss: 0.0780 - acc: 0.9667 - val_loss: 0.1810 - val_acc: 0.9750\n",
            "Epoch 9/10\n",
            "480/480 [==============================] - 73s 153ms/step - loss: 0.0642 - acc: 0.9833 - val_loss: 0.0838 - val_acc: 0.9750\n",
            "Epoch 10/10\n",
            "480/480 [==============================] - 73s 152ms/step - loss: 0.0610 - acc: 0.9875 - val_loss: 0.0852 - val_acc: 0.9833\n",
            "150/150 [==============================] - 4s 24ms/step\n",
            "Test accuracy: [0.09722442070643107, 0.9666666706403096]\n"
          ],
          "name": "stdout"
        }
      ]
    },
    {
      "metadata": {
        "id": "a3BO3Hsd_fd0",
        "colab_type": "code",
        "outputId": "90a7da58-0b71-4c84-ccd9-9502327db664",
        "colab": {
          "base_uri": "https://localhost:8080/",
          "height": 666
        }
      },
      "cell_type": "code",
      "source": [
        "model = Pretrained_Resnet_Model(X_train.shape[1:], True)\n",
        "print(model.summary())\n",
        "model.compile(optimizer= 'adam' , \n",
        "              loss='binary_crossentropy', \n",
        "              metrics=['accuracy'])\n",
        "hist = model.fit(x=X_train,y=Y_train, validation_split= 0.2, epochs=10)\n",
        "BATCH_SIZE = 64\n",
        "\n",
        "test_acc = model.evaluate(X_test, Y_test, batch_size=BATCH_SIZE)\n",
        "print('Test accuracy:', test_acc)"
      ],
      "execution_count": 0,
      "outputs": [
        {
          "output_type": "stream",
          "text": [
            "_________________________________________________________________\n",
            "Layer (type)                 Output Shape              Param #   \n",
            "=================================================================\n",
            "input_5 (InputLayer)         (None, 64, 64, 3)         0         \n",
            "_________________________________________________________________\n",
            "resnet50 (Model)             (None, 2048)              23587712  \n",
            "_________________________________________________________________\n",
            "dense_6 (Dense)              (None, 1)                 2049      \n",
            "=================================================================\n",
            "Total params: 23,589,761\n",
            "Trainable params: 2,049\n",
            "Non-trainable params: 23,587,712\n",
            "_________________________________________________________________\n",
            "None\n",
            "Train on 480 samples, validate on 120 samples\n",
            "Epoch 1/10\n",
            "480/480 [==============================] - 25s 51ms/step - loss: 0.6799 - acc: 0.6167 - val_loss: 0.7385 - val_acc: 0.5500\n",
            "Epoch 2/10\n",
            "480/480 [==============================] - 13s 27ms/step - loss: 0.4632 - acc: 0.8104 - val_loss: 0.7637 - val_acc: 0.5500\n",
            "Epoch 3/10\n",
            "480/480 [==============================] - 13s 27ms/step - loss: 0.3218 - acc: 0.8833 - val_loss: 0.7763 - val_acc: 0.5500\n",
            "Epoch 4/10\n",
            "480/480 [==============================] - 13s 28ms/step - loss: 0.2746 - acc: 0.9021 - val_loss: 0.7892 - val_acc: 0.5500\n",
            "Epoch 5/10\n",
            "480/480 [==============================] - 13s 27ms/step - loss: 0.2364 - acc: 0.9292 - val_loss: 0.7839 - val_acc: 0.5500\n",
            "Epoch 6/10\n",
            "480/480 [==============================] - 13s 27ms/step - loss: 0.2021 - acc: 0.9458 - val_loss: 0.7832 - val_acc: 0.5500\n",
            "Epoch 7/10\n",
            "480/480 [==============================] - 13s 27ms/step - loss: 0.1884 - acc: 0.9479 - val_loss: 0.7864 - val_acc: 0.5500\n",
            "Epoch 8/10\n",
            "480/480 [==============================] - 13s 27ms/step - loss: 0.1741 - acc: 0.9604 - val_loss: 0.8065 - val_acc: 0.5500\n",
            "Epoch 9/10\n",
            "480/480 [==============================] - 13s 27ms/step - loss: 0.1575 - acc: 0.9604 - val_loss: 0.8064 - val_acc: 0.5500\n",
            "Epoch 10/10\n",
            "480/480 [==============================] - 13s 27ms/step - loss: 0.1355 - acc: 0.9729 - val_loss: 0.8076 - val_acc: 0.5500\n",
            "150/150 [==============================] - 4s 24ms/step\n",
            "Test accuracy: [0.9391141843795776, 0.4400000015894572]\n"
          ],
          "name": "stdout"
        }
      ]
    },
    {
      "metadata": {
        "id": "hUSTwp3tMv5J",
        "colab_type": "code",
        "outputId": "7fa37fbc-1dd4-460e-8008-fc242121487c",
        "colab": {
          "base_uri": "https://localhost:8080/",
          "height": 700
        }
      },
      "cell_type": "code",
      "source": [
        "model = Pretrained_Reg_Resnet_Model(X_train.shape[1:], False, 0.2)\n",
        "print(model.summary())\n",
        "model.compile(optimizer= 'adam' , \n",
        "              loss='binary_crossentropy', \n",
        "              metrics=['accuracy'])\n",
        "hist = model.fit(x=X_train,y=Y_train, validation_split= 0.2, epochs=10)\n",
        "BATCH_SIZE = 64\n",
        "\n",
        "test_acc = model.evaluate(X_test, Y_test, batch_size=BATCH_SIZE)\n",
        "print('Test accuracy:', test_acc)"
      ],
      "execution_count": 0,
      "outputs": [
        {
          "output_type": "stream",
          "text": [
            "_________________________________________________________________\n",
            "Layer (type)                 Output Shape              Param #   \n",
            "=================================================================\n",
            "input_11 (InputLayer)        (None, 64, 64, 3)         0         \n",
            "_________________________________________________________________\n",
            "resnet50 (Model)             (None, 2048)              23587712  \n",
            "_________________________________________________________________\n",
            "dropout_2 (Dropout)          (None, 2048)              0         \n",
            "_________________________________________________________________\n",
            "dense_9 (Dense)              (None, 1)                 2049      \n",
            "=================================================================\n",
            "Total params: 23,589,761\n",
            "Trainable params: 23,536,641\n",
            "Non-trainable params: 53,120\n",
            "_________________________________________________________________\n",
            "None\n",
            "Train on 480 samples, validate on 120 samples\n",
            "Epoch 1/10\n",
            "480/480 [==============================] - 114s 237ms/step - loss: 0.8775 - acc: 0.7562 - val_loss: 1.4710 - val_acc: 0.7417\n",
            "Epoch 2/10\n",
            "480/480 [==============================] - 73s 151ms/step - loss: 0.8017 - acc: 0.8063 - val_loss: 3.2444 - val_acc: 0.5167\n",
            "Epoch 3/10\n",
            "480/480 [==============================] - 73s 151ms/step - loss: 0.5751 - acc: 0.8417 - val_loss: 4.4080 - val_acc: 0.6167\n",
            "Epoch 4/10\n",
            "480/480 [==============================] - 72s 151ms/step - loss: 0.4004 - acc: 0.8750 - val_loss: 2.8895 - val_acc: 0.7583\n",
            "Epoch 5/10\n",
            "480/480 [==============================] - 73s 152ms/step - loss: 0.3237 - acc: 0.9167 - val_loss: 1.7430 - val_acc: 0.8000\n",
            "Epoch 6/10\n",
            "480/480 [==============================] - 72s 151ms/step - loss: 0.2273 - acc: 0.9333 - val_loss: 0.7047 - val_acc: 0.8917\n",
            "Epoch 7/10\n",
            "480/480 [==============================] - 72s 151ms/step - loss: 0.1841 - acc: 0.9583 - val_loss: 0.4725 - val_acc: 0.8917\n",
            "Epoch 8/10\n",
            "480/480 [==============================] - 72s 151ms/step - loss: 0.1185 - acc: 0.9688 - val_loss: 0.0671 - val_acc: 0.9667\n",
            "Epoch 9/10\n",
            "480/480 [==============================] - 72s 149ms/step - loss: 0.1004 - acc: 0.9750 - val_loss: 0.3893 - val_acc: 0.8917\n",
            "Epoch 10/10\n",
            "480/480 [==============================] - 73s 152ms/step - loss: 0.0820 - acc: 0.9792 - val_loss: 0.2211 - val_acc: 0.9250\n",
            "150/150 [==============================] - 4s 24ms/step\n",
            "Test accuracy: [0.2514459466934204, 0.9066666682561239]\n"
          ],
          "name": "stdout"
        }
      ]
    }
  ]
}